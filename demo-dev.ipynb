{
 "cells": [
  {
   "cell_type": "code",
   "execution_count": 1,
   "id": "d8181592",
   "metadata": {},
   "outputs": [],
   "source": [
    "import czapi.api as api\n",
    "import pandas as pd\n",
    "from time import sleep\n",
    "import ipywidgets"
   ]
  },
  {
   "cell_type": "code",
   "execution_count": 2,
   "id": "5b073cad",
   "metadata": {},
   "outputs": [],
   "source": [
    "columns = ['team_name','href','hammer_start','score','final_score','hammer_progression','relative_score','guid']\n",
    "def make_frame(event:api.Event)->pd.DataFrame:\n",
    "    return pd.concat([pd.DataFrame(data=boxscore,columns=columns) for boxscore in event.get_flat_boxscores()],axis=0,sort=True).reset_index(drop=True)\n"
   ]
  },
  {
   "cell_type": "code",
   "execution_count": 3,
   "id": "86579f9e",
   "metadata": {},
   "outputs": [],
   "source": [
    "def explode_frame(df:pd.DataFrame)->pd.DataFrame:\n",
    "    df['end'] = df.hammer_progression.apply(lambda x: range(1,len(x)+1))\n",
    "    return df.explode(column=['hammer_progression','relative_score','end']).reset_index(drop=True)"
   ]
  },
  {
   "cell_type": "code",
   "execution_count": 4,
   "id": "318123ae",
   "metadata": {},
   "outputs": [],
   "source": [
    "def transform_frame(df:pd.DataFrame)->pd.DataFrame:\n",
    "    return df.assign(\n",
    "\n",
    "     final_score = df.final_score.astype(int)\n",
    "    ,hammer_progression = df.hammer_progression.astype(bool)\n",
    "    ,hammer_start = df.hammer_start.astype(bool)\n",
    "    ,relative_score = df.relative_score.astype(int)\n",
    "    ,ends = df.end.astype(int)\n",
    "    ,team_id = df.href.str.extract(pat='^.*teamid=(\\d*)[#&].*').astype(int)\n",
    "\n",
    ")\n"
   ]
  },
  {
   "cell_type": "code",
   "execution_count": 5,
   "id": "621e1eea",
   "metadata": {},
   "outputs": [],
   "source": [
    "def get_games_played(df:pd.DataFrame)->pd.DataFrame:\n",
    "    return df.groupby(['team_name','team_id'])['guid'].nunique().sort_values(ascending=False).to_frame().rename({'guid':'games_played'},axis=1)\n"
   ]
  },
  {
   "cell_type": "code",
   "execution_count": 6,
   "id": "44231232",
   "metadata": {},
   "outputs": [],
   "source": [
    "def get_hammer_to_start_game(df:pd.DataFrame)->pd.DataFrame:\n",
    "\n",
    "    return df[['team_name','team_id','guid','hammer_start']].drop_duplicates().groupby(['team_name','team_id'])['hammer_start'].mean().sort_values(ascending=False).to_frame().rename({'hammer_start':'pct_start_with_hammer'},axis=1)\n",
    "\n"
   ]
  },
  {
   "cell_type": "code",
   "execution_count": 7,
   "id": "410c6cf2",
   "metadata": {},
   "outputs": [],
   "source": [
    "def get_points_scored(df:pd.DataFrame)->pd.DataFrame:\n",
    "\n",
    "    return df[['team_name','team_id','guid','final_score']].drop_duplicates().groupby(['team_name','team_id'])['final_score'].mean().sort_values(ascending=False).to_frame().rename({'final_score':'pts_for'},axis=1)\n"
   ]
  },
  {
   "cell_type": "code",
   "execution_count": 8,
   "id": "bd460664",
   "metadata": {},
   "outputs": [
    {
     "name": "stdout",
     "output_type": "stream",
     "text": [
      "Input CurlingZone event ID here:\n"
     ]
    },
    {
     "data": {
      "application/vnd.jupyter.widget-view+json": {
       "model_id": "bed7481e9cc948689aacbef7875d0fe5",
       "version_major": 2,
       "version_minor": 0
      },
      "text/plain": [
       "BoundedIntText(value=1, max=10000, min=1)"
      ]
     },
     "execution_count": 8,
     "metadata": {},
     "output_type": "execute_result"
    }
   ],
   "source": [
    "print('Input CurlingZone event ID here:')\n",
    "event_id = ipywidgets.widgets.BoundedIntText(min=1,max=10000)\n",
    "event_id"
   ]
  },
  {
   "cell_type": "code",
   "execution_count": 13,
   "id": "48859717",
   "metadata": {},
   "outputs": [],
   "source": [
    "run = ipywidgets.widgets.Button(description=\"Run report!\")\n",
    "out = ipywidgets.widgets.Output()\n",
    "\n",
    "def run_report(change)->api.Event:\n",
    "    \n",
    "    out.clear_output()\n",
    "    event = api.Event(cz_event_id = event_id.value,verbose=True,delay=3)\n",
    "    df = make_frame(event=event)\n",
    "    df = explode_frame(df=df)\n",
    "    df = transform_frame(df=df)\n",
    "    \n",
    "\n",
    "    \n",
    "    # games played\n",
    "    games_played = get_games_played(df=df)\n",
    "    out.append_display_data(games_played)\n",
    "    \n",
    "    # hammer to start game\n",
    "    hammer_to_start_game = get_hammer_to_start_game(df=df)\n",
    "    out.append_display_data(hammer_to_start_game)\n",
    "    \n",
    "    # points score\n",
    "    \n",
    "    points_scored = get_points_scored(df=df)\n",
    "    out.append_display_data(points_scored)\n",
    "    \n",
    "#     print(df.head())\n",
    "#     print(df.dtypes)\n",
    "\n",
    "run.on_click(run_report)"
   ]
  },
  {
   "cell_type": "code",
   "execution_count": 14,
   "id": "c92d758b",
   "metadata": {},
   "outputs": [
    {
     "data": {
      "application/vnd.jupyter.widget-view+json": {
       "model_id": "7c4012bee1af477482ee3eeaaf484575",
       "version_major": 2,
       "version_minor": 0
      },
      "text/plain": [
       "VBox(children=(Button(description='Run report!', style=ButtonStyle()), Output()))"
      ]
     },
     "execution_count": 14,
     "metadata": {},
     "output_type": "execute_result"
    },
    {
     "name": "stdout",
     "output_type": "stream",
     "text": [
      "Scraping draw 1.\n",
      "Scraping draw 2.\n",
      "Scraping draw 3.\n",
      "Scraping draw 4.\n",
      "Scraping draw 5.\n",
      "Scraping draw 6.\n",
      "Scraping draw 7.\n",
      "Scraping draw 8.\n"
     ]
    }
   ],
   "source": [
    "ipywidgets.widgets.VBox([run,out])"
   ]
  },
  {
   "cell_type": "code",
   "execution_count": null,
   "id": "c04b282e",
   "metadata": {},
   "outputs": [],
   "source": []
  }
 ],
 "metadata": {
  "kernelspec": {
   "display_name": "Python 3 (ipykernel)",
   "language": "python",
   "name": "python3"
  },
  "language_info": {
   "codemirror_mode": {
    "name": "ipython",
    "version": 3
   },
   "file_extension": ".py",
   "mimetype": "text/x-python",
   "name": "python",
   "nbconvert_exporter": "python",
   "pygments_lexer": "ipython3",
   "version": "3.9.7"
  }
 },
 "nbformat": 4,
 "nbformat_minor": 5
}
