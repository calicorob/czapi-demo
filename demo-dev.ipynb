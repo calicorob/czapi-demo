{
 "cells": [
  {
   "cell_type": "code",
   "execution_count": 1,
   "id": "d8181592",
   "metadata": {},
   "outputs": [],
   "source": [
    "import czapi.api as api\n",
    "import pandas as pd\n",
    "from time import sleep\n",
    "import ipywidgets"
   ]
  },
  {
   "cell_type": "code",
   "execution_count": 2,
   "id": "5b073cad",
   "metadata": {},
   "outputs": [],
   "source": [
    "columns = ['team_name','href','hammer_start','score','final_score','hammer_progression','relative_score','guid']\n",
    "def make_frame(event:api.Event)->pd.DataFrame:\n",
    "    return pd.concat([pd.DataFrame(data=boxscore,columns=columns) for boxscore in event.get_flat_boxscores()],axis=0,sort=True).reset_index(drop=True)\n"
   ]
  },
  {
   "cell_type": "code",
   "execution_count": 3,
   "id": "86579f9e",
   "metadata": {},
   "outputs": [],
   "source": [
    "def explode_frame(df:pd.DataFrame)->pd.DataFrame:\n",
    "    df['end'] = df.hammer_progression.apply(lambda x: range(1,len(x)+1))\n",
    "    return df.explode(column=['hammer_progression','relative_score','end']).reset_index(drop=True)"
   ]
  },
  {
   "cell_type": "code",
   "execution_count": 4,
   "id": "318123ae",
   "metadata": {},
   "outputs": [],
   "source": [
    "def transform_frame(df:pd.DataFrame)->pd.DataFrame:\n",
    "    return df.assign(\n",
    "\n",
    "     final_score = df.final_score.astype(int)\n",
    "    ,hammer_progression = df.hammer_progression.astype(bool)\n",
    "    ,hammer_start = df.hammer_start.astype(bool)\n",
    "    ,relative_score = df.relative_score.astype(int)\n",
    "    ,ends = df.end.astype(int)\n",
    "    ,team_id = df.href.str.extract(pat='^.*teamid=(\\d*)[#&].*').astype(int)\n",
    "\n",
    ")\n"
   ]
  },
  {
   "cell_type": "code",
   "execution_count": 5,
   "id": "621e1eea",
   "metadata": {},
   "outputs": [],
   "source": [
    "def get_games_played(df:pd.DataFrame)->pd.DataFrame:\n",
    "    return df.groupby(['team_name','team_id'])['guid'].nunique().sort_values(ascending=False).to_frame().rename({'guid':'games_played'},axis=1)\n"
   ]
  },
  {
   "cell_type": "code",
   "execution_count": 6,
   "id": "44231232",
   "metadata": {},
   "outputs": [],
   "source": [
    "def get_hammer_to_start_game(df:pd.DataFrame)->pd.DataFrame:\n",
    "\n",
    "    return df[['team_name','team_id','guid','hammer_start']].drop_duplicates().groupby(['team_name','team_id'])['hammer_start'].mean().sort_values(ascending=False).to_frame().rename({'hammer_start':'pct_start_with_hammer'},axis=1)\n",
    "\n"
   ]
  },
  {
   "cell_type": "code",
   "execution_count": 20,
   "id": "410c6cf2",
   "metadata": {},
   "outputs": [],
   "source": [
    "def get_points_scored(df:pd.DataFrame)->pd.DataFrame:\n",
    "\n",
    "    return df[['team_name','team_id','guid','final_score']].drop_duplicates().groupby(['team_name','team_id'])['final_score'].mean().sort_values(ascending=False).to_frame().rename({'final_score':'pts_for'},axis=1)\n"
   ]
  },
  {
   "cell_type": "code",
   "execution_count": 7,
   "id": "bd460664",
   "metadata": {},
   "outputs": [
    {
     "name": "stdout",
     "output_type": "stream",
     "text": [
      "Input CurlingZone event ID here:\n"
     ]
    },
    {
     "data": {
      "application/vnd.jupyter.widget-view+json": {
       "model_id": "d08edf14b0f740f682e25ff5cd613253",
       "version_major": 2,
       "version_minor": 0
      },
      "text/plain": [
       "BoundedIntText(value=1, max=10000, min=1)"
      ]
     },
     "execution_count": 7,
     "metadata": {},
     "output_type": "execute_result"
    }
   ],
   "source": [
    "print('Input CurlingZone event ID here:')\n",
    "event_id = ipywidgets.widgets.BoundedIntText(min=1,max=10000)\n",
    "event_id"
   ]
  },
  {
   "cell_type": "code",
   "execution_count": 21,
   "id": "48859717",
   "metadata": {},
   "outputs": [],
   "source": [
    "run = ipywidgets.widgets.Button(description=\"Run report!\")\n",
    "out = ipywidgets.widgets.Output()\n",
    "def run_report(change)->api.Event:\n",
    "    out.clear_output()\n",
    "    \n",
    "    \n",
    "    event = api.Event(cz_event_id = event_id.value,verbose=True,delay=3)\n",
    "    df = make_frame(event=event)\n",
    "    df = explode_frame(df=df)\n",
    "    df = transform_frame(df=df)\n",
    "    \n",
    "    # games played\n",
    "    games_played = get_games_played(df=df)\n",
    "    out.append_display_data(games_played)\n",
    "    \n",
    "    # hammer to start game\n",
    "    hammer_to_start_game = get_hammer_to_start_game(df=df)\n",
    "    out.append_display_data(hammer_to_start_game)\n",
    "    \n",
    "    # points score\n",
    "    \n",
    "    points_scored = get_points_scored(df=df)\n",
    "    out.append_display_data(points_scored)\n",
    "    \n",
    "#     print(df.head())\n",
    "#     print(df.dtypes)\n",
    "\n",
    "run.on_click(run_report)"
   ]
  },
  {
   "cell_type": "code",
   "execution_count": 23,
   "id": "c92d758b",
   "metadata": {},
   "outputs": [
    {
     "data": {
      "application/vnd.jupyter.widget-view+json": {
       "model_id": "169b6319a60746d4bca647a5ce0e1a05",
       "version_major": 2,
       "version_minor": 0
      },
      "text/plain": [
       "VBox(children=(Button(description='Run report!', style=ButtonStyle()), Output()))"
      ]
     },
     "execution_count": 23,
     "metadata": {},
     "output_type": "execute_result"
    },
    {
     "name": "stdout",
     "output_type": "stream",
     "text": [
      "Scraping draw 1.\n",
      "Scraping draw 2.\n",
      "Scraping draw 3.\n",
      "Scraping draw 4.\n",
      "Scraping draw 5.\n",
      "Scraping draw 6.\n",
      "Scraping draw 7.\n",
      "Scraping draw 8.\n",
      "Scraping draw 9.\n",
      "Scraping draw 10.\n",
      "Scraping draw 11.\n",
      "Scraping draw 12.\n",
      "Scraping draw 13.\n",
      "Scraping draw 14.\n",
      "Scraping draw 15.\n",
      "Scraping draw 16.\n"
     ]
    }
   ],
   "source": [
    "ipywidgets.widgets.VBox([run,out])"
   ]
  },
  {
   "cell_type": "markdown",
   "id": "758f0573",
   "metadata": {},
   "source": [
    "# Old work"
   ]
  },
  {
   "cell_type": "code",
   "execution_count": 23,
   "id": "23fb52fe",
   "metadata": {},
   "outputs": [
    {
     "name": "stdout",
     "output_type": "stream",
     "text": [
      "Scraping draw 1.\n",
      "Scraping draw 2.\n",
      "Scraping draw 3.\n",
      "Scraping draw 4.\n",
      "Scraping draw 5.\n",
      "Scraping draw 6.\n",
      "Scraping draw 7.\n",
      "Scraping draw 8.\n",
      "Scraping draw 9.\n",
      "Scraping draw 10.\n",
      "Scraping draw 11.\n",
      "Scraping draw 12.\n",
      "Scraping draw 13.\n",
      "Scraping draw 14.\n"
     ]
    }
   ],
   "source": [
    "event = api.Event(cz_event_id = cz_event_id,verbose=True,delay=3)"
   ]
  },
  {
   "cell_type": "code",
   "execution_count": 3,
   "id": "903c44d7",
   "metadata": {},
   "outputs": [],
   "source": [
    "columns = ['team_name','href','hammer_start','score','final_score','hammer_progression','relative_score','guid']"
   ]
  },
  {
   "cell_type": "code",
   "execution_count": 4,
   "id": "706bc2da",
   "metadata": {},
   "outputs": [
    {
     "data": {
      "text/html": [
       "<div>\n",
       "<style scoped>\n",
       "    .dataframe tbody tr th:only-of-type {\n",
       "        vertical-align: middle;\n",
       "    }\n",
       "\n",
       "    .dataframe tbody tr th {\n",
       "        vertical-align: top;\n",
       "    }\n",
       "\n",
       "    .dataframe thead th {\n",
       "        text-align: right;\n",
       "    }\n",
       "</style>\n",
       "<table border=\"1\" class=\"dataframe\">\n",
       "  <thead>\n",
       "    <tr style=\"text-align: right;\">\n",
       "      <th></th>\n",
       "      <th>final_score</th>\n",
       "      <th>guid</th>\n",
       "      <th>hammer_progression</th>\n",
       "      <th>hammer_start</th>\n",
       "      <th>href</th>\n",
       "      <th>relative_score</th>\n",
       "      <th>score</th>\n",
       "      <th>team_name</th>\n",
       "    </tr>\n",
       "  </thead>\n",
       "  <tbody>\n",
       "    <tr>\n",
       "      <th>0</th>\n",
       "      <td>10</td>\n",
       "      <td>227480867396377110910835548259064596647</td>\n",
       "      <td>[True, False, True, False, False]</td>\n",
       "      <td>True</td>\n",
       "      <td>event.php?view=Team&amp;eventid=7473&amp;teamid=165362...</td>\n",
       "      <td>[0, 3, 1, 5, 8]</td>\n",
       "      <td>[3, 0, 4, 3, X]</td>\n",
       "      <td>Glenn Howard</td>\n",
       "    </tr>\n",
       "    <tr>\n",
       "      <th>1</th>\n",
       "      <td>2</td>\n",
       "      <td>227480867396377110910835548259064596647</td>\n",
       "      <td>[False, True, False, True, True]</td>\n",
       "      <td>False</td>\n",
       "      <td>event.php?view=Team&amp;eventid=7473&amp;teamid=165351#1</td>\n",
       "      <td>[0, -3, -1, -5, -8]</td>\n",
       "      <td>[0, 2, 0, 0, X]</td>\n",
       "      <td>Carter Bryant</td>\n",
       "    </tr>\n",
       "    <tr>\n",
       "      <th>2</th>\n",
       "      <td>3</td>\n",
       "      <td>51813473605694254939503559225988435646</td>\n",
       "      <td>[False, False, False, True, True, True, False,...</td>\n",
       "      <td>False</td>\n",
       "      <td>event.php?view=Team&amp;eventid=7473&amp;teamid=165351...</td>\n",
       "      <td>[0, 0, 1, 0, -1, -2, -1, -1, 0]</td>\n",
       "      <td>[0, 1, 0, 0, 0, 1, 0, 1, 0]</td>\n",
       "      <td>Sam Steep</td>\n",
       "    </tr>\n",
       "    <tr>\n",
       "      <th>3</th>\n",
       "      <td>5</td>\n",
       "      <td>51813473605694254939503559225988435646</td>\n",
       "      <td>[True, True, True, False, False, False, True, ...</td>\n",
       "      <td>True</td>\n",
       "      <td>event.php?view=Team&amp;eventid=7473&amp;teamid=165351...</td>\n",
       "      <td>[0, 0, -1, 0, 1, 2, 1, 1, 0]</td>\n",
       "      <td>[0, 0, 1, 1, 1, 0, 0, 0, 2]</td>\n",
       "      <td>John Willsey</td>\n",
       "    </tr>\n",
       "    <tr>\n",
       "      <th>4</th>\n",
       "      <td>9</td>\n",
       "      <td>285892458216111860419332685150026763767</td>\n",
       "      <td>[True, True, False, False, True, False]</td>\n",
       "      <td>True</td>\n",
       "      <td>event.php?view=Team&amp;eventid=7473&amp;teamid=165368...</td>\n",
       "      <td>[0, 0, 4, 6, 5, 8]</td>\n",
       "      <td>[0, 4, 2, 0, 3, X]</td>\n",
       "      <td>Owen Purcell</td>\n",
       "    </tr>\n",
       "  </tbody>\n",
       "</table>\n",
       "</div>"
      ],
      "text/plain": [
       "  final_score                                     guid  \\\n",
       "0          10  227480867396377110910835548259064596647   \n",
       "1           2  227480867396377110910835548259064596647   \n",
       "2           3   51813473605694254939503559225988435646   \n",
       "3           5   51813473605694254939503559225988435646   \n",
       "4           9  285892458216111860419332685150026763767   \n",
       "\n",
       "                                  hammer_progression  hammer_start  \\\n",
       "0                  [True, False, True, False, False]          True   \n",
       "1                   [False, True, False, True, True]         False   \n",
       "2  [False, False, False, True, True, True, False,...         False   \n",
       "3  [True, True, True, False, False, False, True, ...          True   \n",
       "4            [True, True, False, False, True, False]          True   \n",
       "\n",
       "                                                href  \\\n",
       "0  event.php?view=Team&eventid=7473&teamid=165362...   \n",
       "1   event.php?view=Team&eventid=7473&teamid=165351#1   \n",
       "2  event.php?view=Team&eventid=7473&teamid=165351...   \n",
       "3  event.php?view=Team&eventid=7473&teamid=165351...   \n",
       "4  event.php?view=Team&eventid=7473&teamid=165368...   \n",
       "\n",
       "                    relative_score                        score      team_name  \n",
       "0                  [0, 3, 1, 5, 8]              [3, 0, 4, 3, X]   Glenn Howard  \n",
       "1              [0, -3, -1, -5, -8]              [0, 2, 0, 0, X]  Carter Bryant  \n",
       "2  [0, 0, 1, 0, -1, -2, -1, -1, 0]  [0, 1, 0, 0, 0, 1, 0, 1, 0]      Sam Steep  \n",
       "3     [0, 0, -1, 0, 1, 2, 1, 1, 0]  [0, 0, 1, 1, 1, 0, 0, 0, 2]   John Willsey  \n",
       "4               [0, 0, 4, 6, 5, 8]           [0, 4, 2, 0, 3, X]   Owen Purcell  "
      ]
     },
     "execution_count": 4,
     "metadata": {},
     "output_type": "execute_result"
    }
   ],
   "source": [
    "df = pd.concat([pd.DataFrame(data=boxscore,columns=columns) for boxscore in event.get_flat_boxscores()],axis=0,sort=True).reset_index(drop=True)\n",
    "df.head()"
   ]
  },
  {
   "cell_type": "code",
   "execution_count": 5,
   "id": "15e80942",
   "metadata": {},
   "outputs": [
    {
     "name": "stdout",
     "output_type": "stream",
     "text": [
      "<class 'pandas.core.frame.DataFrame'>\n",
      "RangeIndex: 124 entries, 0 to 123\n",
      "Data columns (total 8 columns):\n",
      " #   Column              Non-Null Count  Dtype \n",
      "---  ------              --------------  ----- \n",
      " 0   final_score         124 non-null    object\n",
      " 1   guid                124 non-null    object\n",
      " 2   hammer_progression  124 non-null    object\n",
      " 3   hammer_start        124 non-null    bool  \n",
      " 4   href                124 non-null    object\n",
      " 5   relative_score      124 non-null    object\n",
      " 6   score               124 non-null    object\n",
      " 7   team_name           124 non-null    object\n",
      "dtypes: bool(1), object(7)\n",
      "memory usage: 7.0+ KB\n"
     ]
    }
   ],
   "source": [
    "df.info()"
   ]
  },
  {
   "cell_type": "code",
   "execution_count": 6,
   "id": "3ef8d49e",
   "metadata": {},
   "outputs": [
    {
     "data": {
      "text/html": [
       "<div>\n",
       "<style scoped>\n",
       "    .dataframe tbody tr th:only-of-type {\n",
       "        vertical-align: middle;\n",
       "    }\n",
       "\n",
       "    .dataframe tbody tr th {\n",
       "        vertical-align: top;\n",
       "    }\n",
       "\n",
       "    .dataframe thead th {\n",
       "        text-align: right;\n",
       "    }\n",
       "</style>\n",
       "<table border=\"1\" class=\"dataframe\">\n",
       "  <thead>\n",
       "    <tr style=\"text-align: right;\">\n",
       "      <th></th>\n",
       "      <th>final_score</th>\n",
       "      <th>guid</th>\n",
       "      <th>hammer_progression</th>\n",
       "      <th>hammer_start</th>\n",
       "      <th>href</th>\n",
       "      <th>relative_score</th>\n",
       "      <th>score</th>\n",
       "      <th>team_name</th>\n",
       "      <th>ends</th>\n",
       "    </tr>\n",
       "  </thead>\n",
       "  <tbody>\n",
       "    <tr>\n",
       "      <th>0</th>\n",
       "      <td>10</td>\n",
       "      <td>227480867396377110910835548259064596647</td>\n",
       "      <td>[True, False, True, False, False]</td>\n",
       "      <td>True</td>\n",
       "      <td>event.php?view=Team&amp;eventid=7473&amp;teamid=165362...</td>\n",
       "      <td>[0, 3, 1, 5, 8]</td>\n",
       "      <td>[3, 0, 4, 3, X]</td>\n",
       "      <td>Glenn Howard</td>\n",
       "      <td>(1, 2, 3, 4, 5)</td>\n",
       "    </tr>\n",
       "    <tr>\n",
       "      <th>1</th>\n",
       "      <td>2</td>\n",
       "      <td>227480867396377110910835548259064596647</td>\n",
       "      <td>[False, True, False, True, True]</td>\n",
       "      <td>False</td>\n",
       "      <td>event.php?view=Team&amp;eventid=7473&amp;teamid=165351#1</td>\n",
       "      <td>[0, -3, -1, -5, -8]</td>\n",
       "      <td>[0, 2, 0, 0, X]</td>\n",
       "      <td>Carter Bryant</td>\n",
       "      <td>(1, 2, 3, 4, 5)</td>\n",
       "    </tr>\n",
       "    <tr>\n",
       "      <th>2</th>\n",
       "      <td>3</td>\n",
       "      <td>51813473605694254939503559225988435646</td>\n",
       "      <td>[False, False, False, True, True, True, False,...</td>\n",
       "      <td>False</td>\n",
       "      <td>event.php?view=Team&amp;eventid=7473&amp;teamid=165351...</td>\n",
       "      <td>[0, 0, 1, 0, -1, -2, -1, -1, 0]</td>\n",
       "      <td>[0, 1, 0, 0, 0, 1, 0, 1, 0]</td>\n",
       "      <td>Sam Steep</td>\n",
       "      <td>(1, 2, 3, 4, 5, 6, 7, 8, 9)</td>\n",
       "    </tr>\n",
       "    <tr>\n",
       "      <th>3</th>\n",
       "      <td>5</td>\n",
       "      <td>51813473605694254939503559225988435646</td>\n",
       "      <td>[True, True, True, False, False, False, True, ...</td>\n",
       "      <td>True</td>\n",
       "      <td>event.php?view=Team&amp;eventid=7473&amp;teamid=165351...</td>\n",
       "      <td>[0, 0, -1, 0, 1, 2, 1, 1, 0]</td>\n",
       "      <td>[0, 0, 1, 1, 1, 0, 0, 0, 2]</td>\n",
       "      <td>John Willsey</td>\n",
       "      <td>(1, 2, 3, 4, 5, 6, 7, 8, 9)</td>\n",
       "    </tr>\n",
       "    <tr>\n",
       "      <th>4</th>\n",
       "      <td>9</td>\n",
       "      <td>285892458216111860419332685150026763767</td>\n",
       "      <td>[True, True, False, False, True, False]</td>\n",
       "      <td>True</td>\n",
       "      <td>event.php?view=Team&amp;eventid=7473&amp;teamid=165368...</td>\n",
       "      <td>[0, 0, 4, 6, 5, 8]</td>\n",
       "      <td>[0, 4, 2, 0, 3, X]</td>\n",
       "      <td>Owen Purcell</td>\n",
       "      <td>(1, 2, 3, 4, 5, 6)</td>\n",
       "    </tr>\n",
       "  </tbody>\n",
       "</table>\n",
       "</div>"
      ],
      "text/plain": [
       "  final_score                                     guid  \\\n",
       "0          10  227480867396377110910835548259064596647   \n",
       "1           2  227480867396377110910835548259064596647   \n",
       "2           3   51813473605694254939503559225988435646   \n",
       "3           5   51813473605694254939503559225988435646   \n",
       "4           9  285892458216111860419332685150026763767   \n",
       "\n",
       "                                  hammer_progression  hammer_start  \\\n",
       "0                  [True, False, True, False, False]          True   \n",
       "1                   [False, True, False, True, True]         False   \n",
       "2  [False, False, False, True, True, True, False,...         False   \n",
       "3  [True, True, True, False, False, False, True, ...          True   \n",
       "4            [True, True, False, False, True, False]          True   \n",
       "\n",
       "                                                href  \\\n",
       "0  event.php?view=Team&eventid=7473&teamid=165362...   \n",
       "1   event.php?view=Team&eventid=7473&teamid=165351#1   \n",
       "2  event.php?view=Team&eventid=7473&teamid=165351...   \n",
       "3  event.php?view=Team&eventid=7473&teamid=165351...   \n",
       "4  event.php?view=Team&eventid=7473&teamid=165368...   \n",
       "\n",
       "                    relative_score                        score  \\\n",
       "0                  [0, 3, 1, 5, 8]              [3, 0, 4, 3, X]   \n",
       "1              [0, -3, -1, -5, -8]              [0, 2, 0, 0, X]   \n",
       "2  [0, 0, 1, 0, -1, -2, -1, -1, 0]  [0, 1, 0, 0, 0, 1, 0, 1, 0]   \n",
       "3     [0, 0, -1, 0, 1, 2, 1, 1, 0]  [0, 0, 1, 1, 1, 0, 0, 0, 2]   \n",
       "4               [0, 0, 4, 6, 5, 8]           [0, 4, 2, 0, 3, X]   \n",
       "\n",
       "       team_name                         ends  \n",
       "0   Glenn Howard              (1, 2, 3, 4, 5)  \n",
       "1  Carter Bryant              (1, 2, 3, 4, 5)  \n",
       "2      Sam Steep  (1, 2, 3, 4, 5, 6, 7, 8, 9)  \n",
       "3   John Willsey  (1, 2, 3, 4, 5, 6, 7, 8, 9)  \n",
       "4   Owen Purcell           (1, 2, 3, 4, 5, 6)  "
      ]
     },
     "execution_count": 6,
     "metadata": {},
     "output_type": "execute_result"
    }
   ],
   "source": [
    "df['ends'] = df.hammer_progression.apply(lambda x: range(1,len(x)+1))\n",
    "df.head()"
   ]
  },
  {
   "cell_type": "code",
   "execution_count": 7,
   "id": "35cbed20",
   "metadata": {},
   "outputs": [
    {
     "data": {
      "text/html": [
       "<div>\n",
       "<style scoped>\n",
       "    .dataframe tbody tr th:only-of-type {\n",
       "        vertical-align: middle;\n",
       "    }\n",
       "\n",
       "    .dataframe tbody tr th {\n",
       "        vertical-align: top;\n",
       "    }\n",
       "\n",
       "    .dataframe thead th {\n",
       "        text-align: right;\n",
       "    }\n",
       "</style>\n",
       "<table border=\"1\" class=\"dataframe\">\n",
       "  <thead>\n",
       "    <tr style=\"text-align: right;\">\n",
       "      <th></th>\n",
       "      <th>final_score</th>\n",
       "      <th>guid</th>\n",
       "      <th>hammer_progression</th>\n",
       "      <th>hammer_start</th>\n",
       "      <th>href</th>\n",
       "      <th>relative_score</th>\n",
       "      <th>score</th>\n",
       "      <th>team_name</th>\n",
       "      <th>ends</th>\n",
       "    </tr>\n",
       "  </thead>\n",
       "  <tbody>\n",
       "    <tr>\n",
       "      <th>0</th>\n",
       "      <td>10</td>\n",
       "      <td>227480867396377110910835548259064596647</td>\n",
       "      <td>True</td>\n",
       "      <td>True</td>\n",
       "      <td>event.php?view=Team&amp;eventid=7473&amp;teamid=165362...</td>\n",
       "      <td>0</td>\n",
       "      <td>[3, 0, 4, 3, X]</td>\n",
       "      <td>Glenn Howard</td>\n",
       "      <td>1</td>\n",
       "    </tr>\n",
       "    <tr>\n",
       "      <th>1</th>\n",
       "      <td>10</td>\n",
       "      <td>227480867396377110910835548259064596647</td>\n",
       "      <td>False</td>\n",
       "      <td>True</td>\n",
       "      <td>event.php?view=Team&amp;eventid=7473&amp;teamid=165362...</td>\n",
       "      <td>3</td>\n",
       "      <td>[3, 0, 4, 3, X]</td>\n",
       "      <td>Glenn Howard</td>\n",
       "      <td>2</td>\n",
       "    </tr>\n",
       "    <tr>\n",
       "      <th>2</th>\n",
       "      <td>10</td>\n",
       "      <td>227480867396377110910835548259064596647</td>\n",
       "      <td>True</td>\n",
       "      <td>True</td>\n",
       "      <td>event.php?view=Team&amp;eventid=7473&amp;teamid=165362...</td>\n",
       "      <td>1</td>\n",
       "      <td>[3, 0, 4, 3, X]</td>\n",
       "      <td>Glenn Howard</td>\n",
       "      <td>3</td>\n",
       "    </tr>\n",
       "    <tr>\n",
       "      <th>3</th>\n",
       "      <td>10</td>\n",
       "      <td>227480867396377110910835548259064596647</td>\n",
       "      <td>False</td>\n",
       "      <td>True</td>\n",
       "      <td>event.php?view=Team&amp;eventid=7473&amp;teamid=165362...</td>\n",
       "      <td>5</td>\n",
       "      <td>[3, 0, 4, 3, X]</td>\n",
       "      <td>Glenn Howard</td>\n",
       "      <td>4</td>\n",
       "    </tr>\n",
       "    <tr>\n",
       "      <th>4</th>\n",
       "      <td>10</td>\n",
       "      <td>227480867396377110910835548259064596647</td>\n",
       "      <td>False</td>\n",
       "      <td>True</td>\n",
       "      <td>event.php?view=Team&amp;eventid=7473&amp;teamid=165362...</td>\n",
       "      <td>8</td>\n",
       "      <td>[3, 0, 4, 3, X]</td>\n",
       "      <td>Glenn Howard</td>\n",
       "      <td>5</td>\n",
       "    </tr>\n",
       "  </tbody>\n",
       "</table>\n",
       "</div>"
      ],
      "text/plain": [
       "  final_score                                     guid hammer_progression  \\\n",
       "0          10  227480867396377110910835548259064596647               True   \n",
       "1          10  227480867396377110910835548259064596647              False   \n",
       "2          10  227480867396377110910835548259064596647               True   \n",
       "3          10  227480867396377110910835548259064596647              False   \n",
       "4          10  227480867396377110910835548259064596647              False   \n",
       "\n",
       "   hammer_start                                               href  \\\n",
       "0          True  event.php?view=Team&eventid=7473&teamid=165362...   \n",
       "1          True  event.php?view=Team&eventid=7473&teamid=165362...   \n",
       "2          True  event.php?view=Team&eventid=7473&teamid=165362...   \n",
       "3          True  event.php?view=Team&eventid=7473&teamid=165362...   \n",
       "4          True  event.php?view=Team&eventid=7473&teamid=165362...   \n",
       "\n",
       "  relative_score            score     team_name ends  \n",
       "0              0  [3, 0, 4, 3, X]  Glenn Howard    1  \n",
       "1              3  [3, 0, 4, 3, X]  Glenn Howard    2  \n",
       "2              1  [3, 0, 4, 3, X]  Glenn Howard    3  \n",
       "3              5  [3, 0, 4, 3, X]  Glenn Howard    4  \n",
       "4              8  [3, 0, 4, 3, X]  Glenn Howard    5  "
      ]
     },
     "execution_count": 7,
     "metadata": {},
     "output_type": "execute_result"
    }
   ],
   "source": [
    "rs = df.explode(column=['hammer_progression','relative_score','ends']).reset_index(drop=True)\n",
    "rs.head()"
   ]
  },
  {
   "cell_type": "code",
   "execution_count": 8,
   "id": "752682e3",
   "metadata": {},
   "outputs": [
    {
     "name": "stdout",
     "output_type": "stream",
     "text": [
      "<class 'pandas.core.frame.DataFrame'>\n",
      "RangeIndex: 896 entries, 0 to 895\n",
      "Data columns (total 9 columns):\n",
      " #   Column              Non-Null Count  Dtype \n",
      "---  ------              --------------  ----- \n",
      " 0   final_score         896 non-null    object\n",
      " 1   guid                896 non-null    object\n",
      " 2   hammer_progression  896 non-null    object\n",
      " 3   hammer_start        896 non-null    bool  \n",
      " 4   href                896 non-null    object\n",
      " 5   relative_score      896 non-null    object\n",
      " 6   score               896 non-null    object\n",
      " 7   team_name           896 non-null    object\n",
      " 8   ends                896 non-null    object\n",
      "dtypes: bool(1), object(8)\n",
      "memory usage: 57.0+ KB\n"
     ]
    }
   ],
   "source": [
    "rs.info()"
   ]
  },
  {
   "cell_type": "code",
   "execution_count": 9,
   "id": "2ada2d98",
   "metadata": {},
   "outputs": [
    {
     "name": "stdout",
     "output_type": "stream",
     "text": [
      "<class 'pandas.core.frame.DataFrame'>\n",
      "RangeIndex: 896 entries, 0 to 895\n",
      "Data columns (total 10 columns):\n",
      " #   Column              Non-Null Count  Dtype \n",
      "---  ------              --------------  ----- \n",
      " 0   final_score         896 non-null    int64 \n",
      " 1   guid                896 non-null    object\n",
      " 2   hammer_progression  896 non-null    bool  \n",
      " 3   hammer_start        896 non-null    bool  \n",
      " 4   href                896 non-null    object\n",
      " 5   relative_score      896 non-null    int64 \n",
      " 6   score               896 non-null    object\n",
      " 7   team_name           896 non-null    object\n",
      " 8   ends                896 non-null    int64 \n",
      " 9   team_id             896 non-null    int64 \n",
      "dtypes: bool(2), int64(4), object(4)\n",
      "memory usage: 57.9+ KB\n"
     ]
    }
   ],
   "source": [
    "rs = rs.assign(\n",
    "\n",
    "     final_score = rs.final_score.astype(int)\n",
    "    ,hammer_progression = rs.hammer_progression.astype(bool)\n",
    "    ,hammer_start = rs.hammer_start.astype(bool)\n",
    "    ,relative_score = rs.relative_score.astype(int)\n",
    "    ,ends = rs.ends.astype(int)\n",
    "    ,team_id = rs.href.str.extract(pat='^.*teamid=(\\d*)[#&].*').astype(int)\n",
    "\n",
    ")\n",
    "rs.info()"
   ]
  },
  {
   "cell_type": "code",
   "execution_count": 10,
   "id": "a85d5950",
   "metadata": {},
   "outputs": [
    {
     "data": {
      "text/html": [
       "<div>\n",
       "<style scoped>\n",
       "    .dataframe tbody tr th:only-of-type {\n",
       "        vertical-align: middle;\n",
       "    }\n",
       "\n",
       "    .dataframe tbody tr th {\n",
       "        vertical-align: top;\n",
       "    }\n",
       "\n",
       "    .dataframe thead th {\n",
       "        text-align: right;\n",
       "    }\n",
       "</style>\n",
       "<table border=\"1\" class=\"dataframe\">\n",
       "  <thead>\n",
       "    <tr style=\"text-align: right;\">\n",
       "      <th></th>\n",
       "      <th>final_score</th>\n",
       "      <th>guid</th>\n",
       "      <th>hammer_progression</th>\n",
       "      <th>hammer_start</th>\n",
       "      <th>href</th>\n",
       "      <th>relative_score</th>\n",
       "      <th>score</th>\n",
       "      <th>team_name</th>\n",
       "      <th>ends</th>\n",
       "      <th>team_id</th>\n",
       "    </tr>\n",
       "  </thead>\n",
       "  <tbody>\n",
       "  </tbody>\n",
       "</table>\n",
       "</div>"
      ],
      "text/plain": [
       "Empty DataFrame\n",
       "Columns: [final_score, guid, hammer_progression, hammer_start, href, relative_score, score, team_name, ends, team_id]\n",
       "Index: []"
      ]
     },
     "execution_count": 10,
     "metadata": {},
     "output_type": "execute_result"
    }
   ],
   "source": [
    "rs.loc[rs.guid == 65436016482989547031430941358604059751].sort_values(by=['team_id','ends'])"
   ]
  },
  {
   "cell_type": "code",
   "execution_count": 11,
   "id": "459bde2d",
   "metadata": {},
   "outputs": [
    {
     "data": {
      "text/plain": [
       "team_name         team_id\n",
       "Felix Asselin     165350     0.833333\n",
       "Michael Fournier  165359     0.800000\n",
       "Owen Purcell      165366     0.750000\n",
       "Jacob Dobson      165356     0.666667\n",
       "Tanner Horgan     165361     0.600000\n",
       "Dayna Deruelle    165355     0.571429\n",
       "Mike McEwen       165363     0.500000\n",
       "Sam Steep         165370     0.500000\n",
       "Fraser Reid       165367     0.500000\n",
       "Jason Camm        165352     0.500000\n",
       "John Willsey      165368     0.500000\n",
       "Rob Ainsley       165349     0.500000\n",
       "Sam Mooibroek     165365     0.428571\n",
       "Alex Champ        165353     0.400000\n",
       "Glenn Howard      165362     0.400000\n",
       "Pat Ferris        165358     0.400000\n",
       "Travis Fanset     165357     0.333333\n",
       "Carter Bryant     165351     0.333333\n",
       "Landan Rooney     166308     0.250000\n",
       "Brandon Tippin    165369     0.250000\n",
       "Greg Smith        165373     0.250000\n",
       "Cory Heggestad    165360     0.250000\n",
       "Jordan Chandler   165354     0.200000\n",
       "Mark Kean         165364     0.000000\n",
       "Name: hammer_start, dtype: float64"
      ]
     },
     "execution_count": 11,
     "metadata": {},
     "output_type": "execute_result"
    }
   ],
   "source": [
    "# hammer to start game\n",
    "\n",
    "rs[['team_name','team_id','guid','hammer_start']].drop_duplicates().groupby(['team_name','team_id'])['hammer_start'].mean().sort_values(ascending=False)\n",
    "\n"
   ]
  },
  {
   "cell_type": "code",
   "execution_count": 12,
   "id": "665e8858",
   "metadata": {},
   "outputs": [
    {
     "data": {
      "text/plain": [
       "team_name         team_id\n",
       "Pat Ferris        165358     10\n",
       "Dayna Deruelle    165355      7\n",
       "Sam Mooibroek     165365      7\n",
       "Sam Steep         165370      6\n",
       "Felix Asselin     165350      6\n",
       "Fraser Reid       165367      6\n",
       "Rob Ainsley       165349      6\n",
       "Jason Camm        165352      6\n",
       "John Willsey      165368      6\n",
       "Mike McEwen       165363      6\n",
       "Alex Champ        165353      5\n",
       "Michael Fournier  165359      5\n",
       "Tanner Horgan     165361      5\n",
       "Jordan Chandler   165354      5\n",
       "Glenn Howard      165362      5\n",
       "Mark Kean         165364      4\n",
       "Landan Rooney     166308      4\n",
       "Brandon Tippin    165369      4\n",
       "Owen Purcell      165366      4\n",
       "Greg Smith        165373      4\n",
       "Cory Heggestad    165360      4\n",
       "Jacob Dobson      165356      3\n",
       "Carter Bryant     165351      3\n",
       "Travis Fanset     165357      3\n",
       "Name: guid, dtype: int64"
      ]
     },
     "execution_count": 12,
     "metadata": {},
     "output_type": "execute_result"
    }
   ],
   "source": [
    "# games played\n",
    "\n",
    "rs.groupby(['team_name','team_id'])['guid'].nunique().sort_values(ascending=False)\n"
   ]
  },
  {
   "cell_type": "code",
   "execution_count": 13,
   "id": "618ab5b4",
   "metadata": {},
   "outputs": [
    {
     "data": {
      "text/plain": [
       "team_name         team_id\n",
       "Owen Purcell      165366     7.000000\n",
       "Pat Ferris        165358     6.500000\n",
       "Glenn Howard      165362     6.200000\n",
       "Tanner Horgan     165361     5.800000\n",
       "Jason Camm        165352     5.500000\n",
       "Felix Asselin     165350     5.166667\n",
       "Rob Ainsley       165349     5.000000\n",
       "Sam Steep         165370     4.833333\n",
       "Dayna Deruelle    165355     4.714286\n",
       "Mike McEwen       165363     4.666667\n",
       "Fraser Reid       165367     4.666667\n",
       "Landan Rooney     166308     4.250000\n",
       "Michael Fournier  165359     4.200000\n",
       "John Willsey      165368     4.166667\n",
       "Jordan Chandler   165354     4.000000\n",
       "Sam Mooibroek     165365     4.000000\n",
       "Travis Fanset     165357     4.000000\n",
       "Greg Smith        165373     4.000000\n",
       "Mark Kean         165364     3.750000\n",
       "Alex Champ        165353     3.600000\n",
       "Cory Heggestad    165360     3.250000\n",
       "Carter Bryant     165351     3.000000\n",
       "Brandon Tippin    165369     2.750000\n",
       "Jacob Dobson      165356     1.666667\n",
       "Name: final_score, dtype: float64"
      ]
     },
     "execution_count": 13,
     "metadata": {},
     "output_type": "execute_result"
    }
   ],
   "source": [
    "# points scored\n",
    "\n",
    "rs[['team_name','team_id','guid','final_score']].drop_duplicates().groupby(['team_name','team_id'])['final_score'].mean().sort_values(ascending=False)\n"
   ]
  },
  {
   "cell_type": "code",
   "execution_count": 14,
   "id": "49f099db",
   "metadata": {},
   "outputs": [
    {
     "data": {
      "text/plain": [
       "team_name_x       team_id_x\n",
       "Carter Bryant     165351       7.666667\n",
       "Greg Smith        165373       7.250000\n",
       "Travis Fanset     165357       7.000000\n",
       "Jacob Dobson      165356       7.000000\n",
       "Jordan Chandler   165354       6.800000\n",
       "Alex Champ        165353       6.000000\n",
       "Landan Rooney     166308       6.000000\n",
       "Cory Heggestad    165360       5.750000\n",
       "Sam Steep         165370       5.500000\n",
       "Brandon Tippin    165369       5.250000\n",
       "Michael Fournier  165359       5.200000\n",
       "Mark Kean         165364       4.750000\n",
       "Jason Camm        165352       4.500000\n",
       "Sam Mooibroek     165365       4.428571\n",
       "Fraser Reid       165367       4.333333\n",
       "Mike McEwen       165363       4.166667\n",
       "Rob Ainsley       165349       4.166667\n",
       "Dayna Deruelle    165355       4.000000\n",
       "Owen Purcell      165366       3.750000\n",
       "Glenn Howard      165362       3.400000\n",
       "John Willsey      165368       3.333333\n",
       "Pat Ferris        165358       3.300000\n",
       "Tanner Horgan     165361       2.200000\n",
       "Felix Asselin     165350       2.166667\n",
       "Name: final_score_y, dtype: float64"
      ]
     },
     "execution_count": 14,
     "metadata": {},
     "output_type": "execute_result"
    }
   ],
   "source": [
    "# points against\n",
    "\n",
    "_ = rs[['team_name','team_id','guid','final_score']].drop_duplicates().merge(rs[['team_name','team_id','guid','final_score']].drop_duplicates(),on='guid',how='left')\n",
    "\n",
    "_.loc[_.team_id_x != _.team_id_y].groupby(['team_name_x','team_id_x'])['final_score_y'].mean().sort_values(ascending=False)\n"
   ]
  }
 ],
 "metadata": {
  "kernelspec": {
   "display_name": "Python 3 (ipykernel)",
   "language": "python",
   "name": "python3"
  },
  "language_info": {
   "codemirror_mode": {
    "name": "ipython",
    "version": 3
   },
   "file_extension": ".py",
   "mimetype": "text/x-python",
   "name": "python",
   "nbconvert_exporter": "python",
   "pygments_lexer": "ipython3",
   "version": "3.9.7"
  }
 },
 "nbformat": 4,
 "nbformat_minor": 5
}
